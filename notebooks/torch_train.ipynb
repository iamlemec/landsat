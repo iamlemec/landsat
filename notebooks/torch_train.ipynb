{
 "cells": [
  {
   "cell_type": "code",
   "execution_count": 0,
   "metadata": {},
   "outputs": [],
   "source": [
    "cd ../code"
   ]
  },
  {
   "cell_type": "code",
   "execution_count": 0,
   "metadata": {},
   "outputs": [],
   "source": [
    "import numpy as np\n",
    "import sklearn.model_selection as sk"
   ]
  },
  {
   "cell_type": "code",
   "execution_count": 0,
   "metadata": {},
   "outputs": [],
   "source": [
    "import torch\n",
    "from torch import nn, optim\n",
    "import torch.nn.functional as F\n",
    "from torchvision import transforms\n",
    "import torch_tools as tt"
   ]
  },
  {
   "cell_type": "code",
   "execution_count": 0,
   "metadata": {},
   "outputs": [],
   "source": [
    "import train_data\n",
    "import train_tools"
   ]
  },
  {
   "cell_type": "code",
   "execution_count": 0,
   "metadata": {},
   "outputs": [],
   "source": [
    "import warnings\n",
    "warnings.filterwarnings('ignore')"
   ]
  },
  {
   "cell_type": "code",
   "execution_count": 0,
   "metadata": {},
   "outputs": [],
   "source": [
    "plt = plotter()\n",
    "import matplotlib as mpl\n",
    "%config InlineBackend.figure_format = 'retina'\n",
    "%matplotlib inline"
   ]
  },
  {
   "cell_type": "code",
   "execution_count": 0,
   "metadata": {},
   "outputs": [],
   "source": [
    "data_path = '../data/tiles_fast'"
   ]
  },
  {
   "cell_type": "code",
   "execution_count": 0,
   "metadata": {},
   "outputs": [],
   "source": [
    "source = 'asie'\n",
    "year = 2003\n",
    "channel = ['density', 'landsat']\n",
    "landsat = 'mincloud2002'\n",
    "size = 1024\n",
    "ivar = 'id'\n",
    "yvar = 'log_tfp'\n",
    "split = 'geo' # geo, rand"
   ]
  },
  {
   "cell_type": "code",
   "execution_count": 0,
   "metadata": {},
   "outputs": [],
   "source": [
    "pix = 256\n",
    "val_frac = 0.2\n",
    "batch_size = 128\n",
    "buffer = 10000"
   ]
  },
  {
   "cell_type": "code",
   "execution_count": 0,
   "metadata": {},
   "outputs": [],
   "source": [
    "if source == 'asie':\n",
    "    firms = train_data.load_asie_firms(year, landsat, drop=False)\n",
    "elif source == 'census':\n",
    "    firms = train_data.load_census_firms(year, landsat)"
   ]
  },
  {
   "cell_type": "code",
   "execution_count": 0,
   "metadata": {},
   "outputs": [],
   "source": [
    "print(firms['sic2'].nunique())\n",
    "firms['sic2'].value_counts().sort_index().plot.bar();"
   ]
  },
  {
   "cell_type": "code",
   "execution_count": 0,
   "metadata": {},
   "outputs": [],
   "source": [
    "# random geographic split\n",
    "if split == 'geo':\n",
    "    state = np.random.RandomState(21921351)\n",
    "    df_train, df_test = train_tools.categ_split(firms, 'city', val_frac, state=state)\n",
    "else:\n",
    "    df_train, df_test = sk.train_test_split(firms, test_size=val_frac)\n",
    "print(len(df_test)/(len(firms)))"
   ]
  },
  {
   "cell_type": "code",
   "execution_count": 0,
   "metadata": {},
   "outputs": [],
   "source": [
    "model = tt.make_resnet(len(channel)).to('cuda')"
   ]
  },
  {
   "cell_type": "code",
   "execution_count": 0,
   "metadata": {},
   "outputs": [],
   "source": [
    "optimizer = optim.Adam(model.parameters(), lr=1e-3)"
   ]
  },
  {
   "cell_type": "code",
   "execution_count": 0,
   "metadata": {},
   "outputs": [],
   "source": [
    "img_proc = transforms.Compose([\n",
    "    transforms.ToTensor(),\n",
    "])"
   ]
  },
  {
   "cell_type": "code",
   "execution_count": 0,
   "metadata": {},
   "outputs": [],
   "source": [
    "sources = [f'{data_path}/{source}{year}/{ch}/{size}px' for ch in channel]\n",
    "load_args = dict(batch_size=batch_size, pin_memory=True, num_workers=1)"
   ]
  },
  {
   "cell_type": "code",
   "execution_count": 0,
   "metadata": {},
   "outputs": [],
   "source": [
    "train_dataset = tt.ImageDataset(sources, df_train[yvar].dropna(), transform=img_proc)\n",
    "train_loader = tt.data.DataLoader(train_dataset, shuffle=True, **load_args)"
   ]
  },
  {
   "cell_type": "code",
   "execution_count": 0,
   "metadata": {},
   "outputs": [],
   "source": [
    "test_dataset = tt.ImageDataset(sources, df_test[yvar].dropna(), transform=img_proc)\n",
    "test_loader = tt.data.DataLoader(test_dataset, **load_args)"
   ]
  },
  {
   "cell_type": "code",
   "execution_count": 0,
   "metadata": {},
   "outputs": [],
   "source": [
    "for epoch in range(10):\n",
    "    tt.train(model, train_loader, optimizer, epoch)\n",
    "    tt.test(model, test_loader, epoch)"
   ]
  },
  {
   "cell_type": "code",
   "execution_count": 0,
   "metadata": {},
   "outputs": [],
   "source": [
    "test_stat, test_pred = tt.evaluate(model, test_loader)"
   ]
  },
  {
   "cell_type": "code",
   "execution_count": 0,
   "metadata": {},
   "outputs": [],
   "source": [
    "fig, axs = plt.subplots(ncols=2, figsize=(10, 4))\n",
    "train_tools.eval_model(test_stat.cpu(), test_pred.cpu(), axs=axs, qmin=0.01, qmax=0.99)"
   ]
  },
  {
   "cell_type": "code",
   "execution_count": 0,
   "metadata": {},
   "outputs": [],
   "source": [
    "torch.save(model.state_dict(), 'models/resnet_log_tfp.pt')"
   ]
  },
  {
   "cell_type": "code",
   "execution_count": 0,
   "metadata": {},
   "outputs": [],
   "source": []
  }
 ],
 "metadata": {
  "kernelspec": {
   "display_name": "Python 3.8",
   "language": "python",
   "name": "python3.8"
  },
  "language_info": {
   "codemirror_mode": {
    "name": "ipython",
    "version": 3
   },
   "file_extension": ".py",
   "mimetype": "text/x-python",
   "name": "python",
   "nbconvert_exporter": "python",
   "pygments_lexer": "ipython3",
   "version": "3.8.6"
  }
 },
 "nbformat": 4,
 "nbformat_minor": 4
}