{
 "cells": [
  {
   "cell_type": "markdown",
   "metadata": {},
   "source": [
    "# Figures"
   ]
  },
  {
   "cell_type": "code",
   "execution_count": 0,
   "metadata": {},
   "outputs": [],
   "source": [
    "cd ../code"
   ]
  },
  {
   "cell_type": "code",
   "execution_count": 0,
   "metadata": {},
   "outputs": [],
   "source": [
    "import warnings\n",
    "warnings.filterwarnings('ignore')"
   ]
  },
  {
   "cell_type": "code",
   "execution_count": 0,
   "metadata": {},
   "outputs": [],
   "source": [
    "plt = plotter()\n",
    "%config InlineBackend.figure_format = 'retina'\n",
    "%matplotlib inline"
   ]
  },
  {
   "cell_type": "code",
   "execution_count": 0,
   "metadata": {},
   "outputs": [],
   "source": [
    "from PIL import Image\n",
    "Image.MAX_IMAGE_PIXELS = 1000000000\n",
    "from pyproj import Proj\n",
    "from matplotlib import cm"
   ]
  },
  {
   "cell_type": "code",
   "execution_count": 0,
   "metadata": {},
   "outputs": [],
   "source": [
    "import tiles_satellite as ts\n",
    "import tiles_density as td"
   ]
  },
  {
   "cell_type": "code",
   "execution_count": 0,
   "metadata": {},
   "outputs": [],
   "source": [
    "save = False"
   ]
  },
  {
   "cell_type": "code",
   "execution_count": 0,
   "metadata": {},
   "outputs": [],
   "source": [
    "pixel = 15\n",
    "cmap = cm.jet\n",
    "extent = lambda s: [-pixel*s/2, pixel*s/2, -pixel*s/2, pixel*s/2]\n",
    "decloud = lambda x, cut: np.choose(x<cut, [np.zeros_like(x), x])\n",
    "amp = lambda x, alpha: 255*((x-np.min(x))/(np.max(x)-np.min(x)))**alpha"
   ]
  },
  {
   "cell_type": "markdown",
   "metadata": {},
   "source": [
    "## CGS-02 and BD-09 Correction"
   ]
  },
  {
   "cell_type": "code",
   "execution_count": 0,
   "metadata": {},
   "outputs": [],
   "source": [
    "index = pd.read_csv('../index/scenes/google_scenes_2002_mincloud.csv')"
   ]
  },
  {
   "cell_type": "code",
   "execution_count": 0,
   "metadata": {},
   "outputs": [],
   "source": [
    "x_lon, x_lat = 116.390797, 39.916406 # beijing (forbidden city)\n",
    "\n",
    "# scale params\n",
    "vmin, vmax = 32, 100\n",
    "rad, size = 256, 512\n",
    "ext = extent(size)\n",
    "\n",
    "# extract tiles\n",
    "tile0 = ts.extract_satelite_tile(x_lon, x_lat, rad, index=index, size=size, proj='bd-09')\n",
    "tile1 = ts.extract_satelite_tile(x_lon, x_lat, rad, index=index, size=size, proj='wgs-84')\n",
    "arr0, arr1 = np.asarray(tile0), np.asarray(tile1)\n",
    "\n",
    "# make plots\n",
    "fig, ax = plt.subplots(ncols=2, figsize=(12, 6))\n",
    "ax[0].imshow(arr0, cmap=cm.jet, interpolation='lanczos', vmin=vmin, vmax=vmax, extent=ext)\n",
    "ax[1].imshow(arr1, cmap=cm.jet, interpolation='lanczos', vmin=vmin, vmax=vmax, extent=ext)\n",
    "ax[0].scatter([0], [0], c='r');\n",
    "ax[1].scatter([0], [0], c='r');\n",
    "ax[0].set_title('Uncorrected BG-09 Coordinates')\n",
    "ax[1].set_title('Corrected WGS-84 Coordinates')\n",
    "if save: fig.savefig('docs/images/bd_wgs_compare.png', dpi=300);"
   ]
  },
  {
   "cell_type": "markdown",
   "metadata": {},
   "source": [
    "## Landsat Imagery Demo"
   ]
  },
  {
   "cell_type": "code",
   "execution_count": 0,
   "metadata": {},
   "outputs": [],
   "source": [
    "coldefs = ['id', 'lon_bd09', 'lat_bd09']\n",
    "firms = pd.read_csv('data/firms/census2004_geocode.csv', usecols=coldefs)"
   ]
  },
  {
   "cell_type": "code",
   "execution_count": 0,
   "metadata": {},
   "outputs": [],
   "source": [
    "fid = 1082781 # Shanghai Happy Vacuum Cleaner Factory\n",
    "info = firms[firms['id']==fid].iloc[0]\n",
    "x_lon, x_lat = info[['lon_bd09', 'lat_bd09']]\n",
    "\n",
    "# scale params\n",
    "rad0, rad1 = 256, 1024\n",
    "vmin, vmax = 32, 130\n",
    "ext0, ext1 = extent(rad0), extent(rad1)\n",
    "size = 512\n",
    "\n",
    "# extract tiles\n",
    "tile0 = ts.extract_satelite_tile(x_lon, x_lat, rad=rad0, index=index, size=size, proj='bd-09')\n",
    "tile1 = ts.extract_satelite_tile(x_lon, x_lat, rad=rad1, index=index, size=size, proj='bd-09')\n",
    "arr0, arr1 = np.asarray(tile0), np.asarray(tile1)\n",
    "arr0, arr1 = decloud(arr0, 100), decloud(arr1, 100)\n",
    "\n",
    "# make plots\n",
    "fig, ax = plt.subplots(ncols=2, figsize=(12, 6))\n",
    "ax[0].imshow(arr0, cmap=cmap, interpolation='lanczos', vmin=vmin, vmax=vmax, extent=ext0)\n",
    "ax[1].imshow(arr1, cmap=cmap, interpolation='lanczos', vmin=vmin, vmax=vmax, extent=ext1)\n",
    "ax[0].scatter([0], [0], c='r');\n",
    "ax[1].scatter([0], [0], c='r');\n",
    "ax[0].set_title('Firm Location, 2km Radius')\n",
    "ax[1].set_title('Firm Location, 7km Radius')\n",
    "if save: fig.savefig('docs/images/landsat_demo.png', dpi=300);"
   ]
  },
  {
   "cell_type": "markdown",
   "metadata": {},
   "source": [
    "## Firm Density Demo"
   ]
  },
  {
   "cell_type": "code",
   "execution_count": 0,
   "metadata": {},
   "outputs": [],
   "source": [
    "density = 'data/density/census2004'"
   ]
  },
  {
   "cell_type": "code",
   "execution_count": 0,
   "metadata": {},
   "outputs": [],
   "source": [
    "# lon1, lat1 = 116.390797, 39.916406 # beijing\n",
    "# lon1, lat1 = 114.066500, 22.654437 # huawei\n",
    "# lon1, lat1 = 104.066465, 30.658427 # chengdu\n",
    "lon0, lat0 = 121.439610, 31.265273 # shanghai\n",
    "lon1, lat1 = 108.944372, 34.265481 # xi'an\n",
    "\n",
    "rad0, rad1 = 1800, 512\n",
    "ext0, ext1 = extent(rad0), extent(rad1)\n",
    "vmin, vmax = 32, 130\n",
    "size = 512\n",
    "\n",
    "sat = ts.extract_satelite_tile(lon0, lat0, rad=rad0, index=index, size=size, proj='bd-09')\n",
    "den = td.extract_density_coords(lon0, lat0, density, rad=rad0, size=size)\n",
    "arr_sat, arr_den = np.asarray(sat), np.asarray(den)\n",
    "arr_sat, arr_den = 1.0*amp(decloud(arr_sat, 100), 2.5), amp(arr_den, 0.7)\n",
    "arr_mix0 = np.stack([arr_sat/255+2*arr_den/255, arr_sat/255, arr_sat/255], axis=2)\n",
    "\n",
    "sat = ts.extract_satelite_tile(lon1, lat1, rad=rad1, index=index, size=size, proj='bd-09')\n",
    "den = td.extract_density_coords(lon1, lat1, density, rad=rad1, size=size)\n",
    "arr_sat, arr_den = np.asarray(sat), np.asarray(den)\n",
    "arr_sat, arr_den = 1.4*amp(decloud(arr_sat, 100), 3.5), amp(arr_den, 0.7)\n",
    "arr_mix1 = np.stack([arr_sat/255+2*arr_den/255, arr_sat/255, arr_sat/255], axis=2)\n",
    "\n",
    "fig, ax = plt.subplots(ncols=2, figsize=(12, 6))\n",
    "ax[0].imshow(arr_mix0, interpolation='lanczos', extent=ext0)\n",
    "ax[1].imshow(arr_mix1, interpolation='lanczos', extent=ext1)\n",
    "ax[0].set_title('Shanghai, 13k Radius')\n",
    "ax[1].set_title('Xi\\'an, 4km Radius')\n",
    "if save: fig.savefig('docs/images/density_overlay.png', dpi=300);"
   ]
  },
  {
   "cell_type": "markdown",
   "metadata": {},
   "source": [
    "## Density Maps"
   ]
  },
  {
   "cell_type": "code",
   "execution_count": 0,
   "metadata": {},
   "outputs": [],
   "source": [
    "tile_density_path = 'data/tiles/census2004/density/1024px'\n",
    "tile_landsat_path = 'data/tiles/census2004/landsat/1024px'"
   ]
  },
  {
   "cell_type": "code",
   "execution_count": 0,
   "metadata": {},
   "outputs": [],
   "source": [
    "def chunk_path(tag, loc, ext='jpg'):\n",
    "    tag = f'{tag:07d}'\n",
    "    sub = tag[:4]\n",
    "    psub = f'{loc}/{sub}'\n",
    "    ptag = f'{psub}/{tag}.{ext}'\n",
    "    return ptag"
   ]
  },
  {
   "cell_type": "code",
   "execution_count": 0,
   "metadata": {},
   "outputs": [],
   "source": [
    "def add_border(x):\n",
    "    x = x.copy()\n",
    "    x[0,:] = 255\n",
    "    x[-1,:] = 255\n",
    "    x[:,0] = 255\n",
    "    x[:,-1] = 255\n",
    "    return x"
   ]
  },
  {
   "cell_type": "code",
   "execution_count": 0,
   "metadata": {},
   "outputs": [],
   "source": [
    "# ids = [425286, 425777, 425920, 425951]\n",
    "ids = [1082781, 425777, 39676, 244861]"
   ]
  },
  {
   "cell_type": "code",
   "execution_count": 0,
   "metadata": {},
   "outputs": [],
   "source": [
    "paths_den = [chunk_path(i, loc=tile_density_path) for i in ids]\n",
    "images_den = [np.asarray(Image.open(p)) for p in paths_den]\n",
    "images_den = [255*(x>40) for x in images_den]\n",
    "# images_den = [amp(x, 0.7) for x in images_den]\n",
    "images_den = [x.astype(np.uint8) for x in images_den]\n",
    "images_den = [add_border(x) for x in images_den]"
   ]
  },
  {
   "cell_type": "code",
   "execution_count": 0,
   "metadata": {},
   "outputs": [],
   "source": [
    "fig, axs = plt.subplots(ncols=len(ids), figsize=(12, 3))\n",
    "for i, _ in enumerate(ids):\n",
    "    ax = axs[i]\n",
    "    ax.imshow(images_den[i], origin='upper', cmap='Greys', interpolation='lanczos')\n",
    "    ax.get_xaxis().set_visible(False)\n",
    "    ax.get_yaxis().set_visible(False)\n",
    "    ax.axis('off')\n",
    "# if save: fig.savefig('docs/images/density_examples.png', dpi=300, bbox_inches='tight')"
   ]
  },
  {
   "cell_type": "code",
   "execution_count": 0,
   "metadata": {},
   "outputs": [],
   "source": [
    "paths_sat = [chunk_path(i, loc=tile_landsat_path) for i in ids]\n",
    "images_sat = [np.asarray(Image.open(p)) for p in paths_sat]\n",
    "images_sat = [amp(x, 0.2) for x in images_sat]\n",
    "images_sat = [x.astype(np.uint8) for x in images_sat]\n",
    "images_sat = [add_border(x) for x in images_sat]"
   ]
  },
  {
   "cell_type": "code",
   "execution_count": 0,
   "metadata": {},
   "outputs": [],
   "source": [
    "fig, axs = plt.subplots(ncols=len(ids), figsize=(12, 3))\n",
    "for i, _ in enumerate(ids):\n",
    "    ax = axs[i]\n",
    "    ax.imshow(images_sat[i], origin='upper', cmap='Greys', interpolation='lanczos')\n",
    "    ax.get_xaxis().set_visible(False)\n",
    "    ax.get_yaxis().set_visible(False)\n",
    "    ax.axis('off')\n",
    "if save: fig.savefig('docs/images/landsat_examples.png', dpi=300, bbox_inches='tight')"
   ]
  },
  {
   "cell_type": "code",
   "execution_count": 0,
   "metadata": {},
   "outputs": [],
   "source": [
    "id1 = 1082781\n",
    "\n",
    "path_den = chunk_path(id1, loc=tile_density_path)\n",
    "image_den0 = np.asarray(Image.open(path_den))\n",
    "image_den = 3*image_den0\n",
    "image_den = image_den.astype(np.uint8)\n",
    "image_den = add_border(image_den)\n",
    "\n",
    "path_sat = chunk_path(id1, loc=tile_landsat_path)\n",
    "image_sat0 = np.asarray(Image.open(path_sat))\n",
    "image_sat = amp(image_sat0, 0.2)\n",
    "image_sat = image_sat.astype(np.uint8)\n",
    "image_sat = add_border(image_sat)\n",
    "\n",
    "image_sim = 255*((image_sat>150)&(image_sat<155))\n",
    "image_sim = image_sim.astype(np.uint8)\n",
    "image_sim = add_border(image_sim)\n",
    "\n",
    "fig, ax = plt.subplots(figsize=(3, 3))\n",
    "ax.imshow(image_den, origin='upper', cmap='Greys')\n",
    "ax.get_xaxis().set_visible(False)\n",
    "ax.get_yaxis().set_visible(False)\n",
    "ax.axis('off')\n",
    "if save: fig.savefig('docs/images/density_single.png', dpi=300, bbox_inches='tight')\n",
    "\n",
    "fig, ax = plt.subplots(figsize=(3, 3))\n",
    "ax.imshow(image_sat, origin='upper', cmap='Greys')\n",
    "ax.get_xaxis().set_visible(False)\n",
    "ax.get_yaxis().set_visible(False)\n",
    "ax.axis('off')\n",
    "if save: fig.savefig('docs/images/landsat_single.png', dpi=300, bbox_inches='tight')\n",
    "\n",
    "fig, ax = plt.subplots(figsize=(3, 3))\n",
    "ax.imshow(image_sim, origin='upper', cmap='Greys')\n",
    "ax.get_xaxis().set_visible(False)\n",
    "ax.get_yaxis().set_visible(False)\n",
    "ax.axis('off')\n",
    "if save: fig.savefig('docs/images/simdens_single.png', dpi=300, bbox_inches='tight')"
   ]
  },
  {
   "cell_type": "markdown",
   "metadata": {},
   "source": [
    "### Testing"
   ]
  },
  {
   "cell_type": "code",
   "execution_count": 0,
   "metadata": {},
   "outputs": [],
   "source": [
    "# lon, lat = 116.390797, 39.916406 # forbidden city\n",
    "# lat, lon = 22.282941, 114.157117 # des veoux road\n",
    "# lat, lon = 21.057959, 116.012341 # outer island\n",
    "lat, lon = 22.169709, 114.263666 # po toi island\n",
    "\n",
    "rad, size = 256, 512\n",
    "vmin, vmax = 0, 100\n",
    "ext = extent(rad)\n",
    "\n",
    "ts.extract_satelite_tile(lon, lat, rad, index=index, size=size, proj='wgs-84')"
   ]
  },
  {
   "cell_type": "code",
   "execution_count": 0,
   "metadata": {},
   "outputs": [],
   "source": [
    "pid = ts.find_scene(lon, lat, index)"
   ]
  },
  {
   "cell_type": "code",
   "execution_count": 0,
   "metadata": {},
   "outputs": [],
   "source": [
    "meta, image = ts.load_scene(pid)\n",
    "image.load();"
   ]
  },
  {
   "cell_type": "code",
   "execution_count": 0,
   "metadata": {},
   "outputs": [],
   "source": [
    "# im = ts.extract_satelite_core(lon, lat, meta, image, rad=rad)"
   ]
  },
  {
   "cell_type": "code",
   "execution_count": 0,
   "metadata": {},
   "outputs": [],
   "source": [
    "image.crop((4245, 3213, 4757, 3725))"
   ]
  },
  {
   "cell_type": "code",
   "execution_count": 0,
   "metadata": {},
   "outputs": [],
   "source": []
  }
 ],
 "metadata": {
  "kernelspec": {
   "display_name": "Python 3",
   "language": "python",
   "name": "python3"
  },
  "language_info": {
   "codemirror_mode": {
    "name": "ipython",
    "version": 3
   },
   "file_extension": ".py",
   "mimetype": "text/x-python",
   "name": "python",
   "nbconvert_exporter": "python",
   "pygments_lexer": "ipython3",
   "version": "3.8.6rc1"
  }
 },
 "nbformat": 4,
 "nbformat_minor": 4
}