{
 "cells": [
  {
   "cell_type": "code",
   "execution_count": 0,
   "metadata": {},
   "outputs": [],
   "source": [
    "cd ~/work/cluster"
   ]
  },
  {
   "cell_type": "code",
   "execution_count": 0,
   "metadata": {},
   "outputs": [],
   "source": [
    "import warnings\n",
    "warnings.filterwarnings('ignore')"
   ]
  },
  {
   "cell_type": "code",
   "execution_count": 0,
   "metadata": {},
   "outputs": [],
   "source": [
    "plt = plotter(backend='agg')\n",
    "%matplotlib inline"
   ]
  },
  {
   "cell_type": "code",
   "execution_count": 0,
   "metadata": {},
   "outputs": [],
   "source": [
    "import time\n",
    "from shapely.geometry import Polygon\n",
    "from PIL import Image, ImageDraw, ImageFilter\n",
    "import geopandas as gpd\n",
    "Image.MAX_IMAGE_PIXELS = 1000000000\n",
    "from pyproj import Proj\n",
    "from matplotlib import cm\n",
    "import scipy.sparse as sp\n",
    "from scipy import signal\n",
    "from scipy.ndimage import gaussian_filter"
   ]
  },
  {
   "cell_type": "code",
   "execution_count": 0,
   "metadata": {},
   "outputs": [],
   "source": [
    "def make_rectangle(xlo, xhi, ylo, yhi, poly=True):\n",
    "    rect = [(xlo, ylo), (xhi, ylo), (xhi, yhi), (xlo, yhi), (xlo, ylo)]\n",
    "    return Polygon(rect) if poly else rect"
   ]
  },
  {
   "cell_type": "markdown",
   "metadata": {},
   "source": [
    "## Load Data"
   ]
  },
  {
   "cell_type": "code",
   "execution_count": 0,
   "metadata": {},
   "outputs": [],
   "source": [
    "world = gpd.read_file(gpd.datasets.get_path('naturalearth_lowres'))"
   ]
  },
  {
   "cell_type": "code",
   "execution_count": 0,
   "metadata": {},
   "outputs": [],
   "source": [
    "scenes = pd.read_csv('index/scenes/google_scenes_2002_cloud.csv', parse_dates=['DATE_ACQUIRED'])\n",
    "print(len(scenes))"
   ]
  },
  {
   "cell_type": "markdown",
   "metadata": {},
   "source": [
    "## Imagery Coverage"
   ]
  },
  {
   "cell_type": "code",
   "execution_count": 0,
   "metadata": {},
   "outputs": [],
   "source": [
    "boxes = scenes[['WEST_LON', 'EAST_LON', 'SOUTH_LAT', 'NORTH_LAT']]\n",
    "boxes = gpd.GeoSeries(boxes.apply(lambda x: make_rectangle(*x), axis=1))\n",
    "uboxes = gpd.GeoDataFrame({'geometry': gpd.GeoSeries(boxes.unary_union)})"
   ]
  },
  {
   "cell_type": "code",
   "execution_count": 0,
   "metadata": {},
   "outputs": [],
   "source": [
    "world.cx[lon_min:lon_max, lat_min:lat_max].plot();"
   ]
  },
  {
   "cell_type": "code",
   "execution_count": 0,
   "metadata": {},
   "outputs": [],
   "source": [
    "lon_min, lon_max, lat_min, lat_max = 55, 150, 0, 70\n",
    "rect = make_rectangle(lon_min, lon_max, lat_min, lat_max)\n",
    "area = gpd.GeoDataFrame({'geometry': gpd.GeoSeries(rect)})\n",
    "crop = gpd.overlay(world.cx[lon_min:lon_max, lat_min:lat_max], area, how='intersection')"
   ]
  },
  {
   "cell_type": "code",
   "execution_count": 0,
   "metadata": {},
   "outputs": [],
   "source": [
    "fig, ax = plt.subplots(figsize=(6, 4.5))\n",
    "crop.plot(ax=ax);\n",
    "# boxes.plot(ax=ax, color='r', alpha=0.2);\n",
    "uboxes.plot(ax=ax, color='g', alpha=0.2);\n",
    "plt.axis('equal');"
   ]
  },
  {
   "cell_type": "markdown",
   "metadata": {},
   "source": [
    "## UTM Coverage"
   ]
  },
  {
   "cell_type": "code",
   "execution_count": 0,
   "metadata": {},
   "outputs": [],
   "source": [
    "letters = 'CDEFGHJKLMNPQRSTUVWX'\n",
    "fletter = {i: c for i, c in enumerate(letters)}\n",
    "rletter = {c: i for i, c in enumerate(letters)}\n",
    "\n",
    "def wgs2utm(lon_wgs, lat_wgs):\n",
    "    idx_lon = int(round(lon_wgs/6.0 + 30.5))\n",
    "    idx_lat = int(round(lat_wgs/8.0 + 9.5))\n",
    "    utm_lon = ((idx_lon-1) % 60) + 1\n",
    "    utm_lat = fletter[idx_lat]\n",
    "    return f'{utm_lon}{utm_lat}'\n",
    "\n",
    "# returns bottom left corner (cell is 6x8 degrees)\n",
    "def utm2wgs(lon_utm, lat_utm):\n",
    "    idx_lon = lon_utm - 1\n",
    "    idx_lat = rletter[lat_utm]\n",
    "    lon_wgs = 6*(idx_lon - 30)\n",
    "    lat_wgs = 8*(idx_lat - 10)\n",
    "    return lon_wgs, lat_wgs"
   ]
  },
  {
   "cell_type": "code",
   "execution_count": 0,
   "metadata": {},
   "outputs": [],
   "source": [
    "utm_zones = [\n",
    "                '45U',                        '50U','51U','52U','53U',\n",
    "    '43T','44T','45T','46T','47T','48T','49T','50T','51T','52T','53T',\n",
    "    '43S','44S','45S','46S','47S','48S','49S','50S','51S',\n",
    "          '44R','45R','46R','47R','48R','49R','50R','51R',\n",
    "                            '47Q','48Q','49Q','50Q'\n",
    "]\n",
    "utm_codes = [(int(z[:-1]), z[-1]) for z in utm_zones]\n",
    "utm_base = [utm2wgs(lon, lat) for lon, lat in utm_codes]\n",
    "utm_boxes = gpd.GeoSeries([make_rectangle(lon, lon+6, lat, lat+8) for lon, lat in utm_base])\n",
    "utm_proj = {z: Proj(f'+proj=utm +zone={z}, +ellps=WGS84 +datum=WGS84 +units=m +no_defs') for z in utm_zones}\n",
    "utm_func = lambda z, lon, lat, inverse=False: utm_proj[z](lon, lat, inverse=inverse)"
   ]
  },
  {
   "cell_type": "code",
   "execution_count": 0,
   "metadata": {},
   "outputs": [],
   "source": [
    "fig, ax = plt.subplots(figsize=(6, 4.5))\n",
    "crop.plot(ax=ax);\n",
    "utm_boxes.plot(ax=ax, color='g', alpha=0.2);\n",
    "plt.axis('equal');"
   ]
  },
  {
   "cell_type": "code",
   "execution_count": 0,
   "metadata": {},
   "outputs": [],
   "source": [
    "rad_x, rad_y = 500000, 500000\n",
    "utm_centers_wgs = [(lon+3, lat+4) for lon, lat in utm_base]\n",
    "utm_centers_utm = [utm_func(z, lon, lat) for z, (lon, lat) in zip(utm_zones, utm_centers_wgs)]\n",
    "utm_radboxs_utm = [(lon-rad_x, lon+rad_x, lat-rad_y, lat+rad_y) for lon, lat in utm_centers_utm]\n",
    "utm_radrect_utm = [make_rectangle(*x, poly=False) for x in utm_radboxs_utm]\n",
    "utm_radrect_wgs = [[utm_func(z, *y, inverse=True) for y in x] for z, x in zip(utm_zones, utm_radrect_utm)]\n",
    "utm_radpoly_wgs = gpd.GeoSeries([Polygon(x) for x in utm_radrect_wgs])\n",
    "fig, ax = plt.subplots(figsize=(6, 6))\n",
    "crop.plot(ax=ax);\n",
    "utm_radpoly_wgs.plot(ax=ax, color='g', alpha=0.2);\n",
    "#utm_boxes.loc[:3].plot(ax=ax, color='r', alpha=0.2);\n",
    "plt.axis('equal');"
   ]
  },
  {
   "cell_type": "markdown",
   "metadata": {},
   "source": [
    "## Firm Acquisition"
   ]
  },
  {
   "cell_type": "code",
   "execution_count": 0,
   "metadata": {},
   "outputs": [],
   "source": [
    "# these should be WGS 84 datum (EPSG 3857)\n",
    "x_lon, x_lat, proj = 116.390797, 39.916406, 'wgs-84' # beijing (forbidden city)\n",
    "# x_lon, x_lat, proj = 116.406562, 39.882110, 'wgs' # beijing (temple of heaven)\n",
    "# x_lon, x_lat, proj = 114.0665, 22.654437, 'bd-09' # huawei headquarters\n",
    "# x_lon, x_lat, proj = 121.486958, 31.244277, 'wgs' # shanghai bund point - WGS84"
   ]
  },
  {
   "cell_type": "code",
   "execution_count": 0,
   "metadata": {},
   "outputs": [],
   "source": [
    "index = pd.read_csv('targets/google_scenes_2002_mincloud.csv')\n",
    "x_pid = location_tools.find_scene(x_lon, x_lat, index)\n",
    "im = Image.open(f'scenes/{x_pid}_B8.TIF')\n",
    "im.resize((256, 256))"
   ]
  },
  {
   "cell_type": "code",
   "execution_count": 0,
   "metadata": {},
   "outputs": [],
   "source": [
    "def regularize(image, wins_lo=0.01, wins_hi=0.99, chop=True):\n",
    "    arr = np.asarray(image).flatten()\n",
    "    vlo, vhi = np.quantile(arr, [wins_lo, wins_hi])\n",
    "    mat = np.clip(arr, vlo, vhi).reshape(image.size)\n",
    "    return Image.fromarray(mat)"
   ]
  },
  {
   "cell_type": "code",
   "execution_count": 0,
   "metadata": {},
   "outputs": [],
   "source": [
    "size = 256\n",
    "fig, ax = plt.subplots(figsize=(6, 6))\n",
    "tile = location_tools.extract_satelite_tile(x_lon, x_lat, index, rad=256, size=size, proj=proj, resample=Image.LANCZOS)\n",
    "ax.matshow(tile, cmap=cm.jet, origin='upper', interpolation='lanczos')\n",
    "ax.scatter([size/2], [size/2], c='r');"
   ]
  },
  {
   "cell_type": "markdown",
   "metadata": {},
   "source": [
    "## Firm Cluster"
   ]
  },
  {
   "cell_type": "code",
   "execution_count": 0,
   "metadata": {},
   "outputs": [],
   "source": [
    "census = pd.read_csv('index/firms/census2004_mincloud2002.csv').dropna()"
   ]
  },
  {
   "cell_type": "code",
   "execution_count": 0,
   "metadata": {},
   "outputs": [],
   "source": [
    "utm_info = pd.read_csv('meta/utm_centers.csv', index_col='utm')"
   ]
  },
  {
   "cell_type": "code",
   "execution_count": 0,
   "metadata": {},
   "outputs": [],
   "source": [
    "pixel = 15\n",
    "cmap = cm.jet"
   ]
  },
  {
   "cell_type": "code",
   "execution_count": 0,
   "metadata": {},
   "outputs": [],
   "source": [
    "extent = lambda s: [-pixel*s/2, pixel*s/2, -pixel*s/2, pixel*s/2]\n",
    "decloud = lambda x, cut: np.choose(x<cut, [np.zeros_like(x), x])\n",
    "amp = lambda x, alpha: 255*((x-np.min(x))/(np.max(x)-np.min(x)))**alpha"
   ]
  },
  {
   "cell_type": "code",
   "execution_count": 0,
   "metadata": {},
   "outputs": [],
   "source": [
    "# fidx = 271272 # huawei\n",
    "fidx = 1082781 # Shanghai Happy Vacuum Cleaner Factory\n",
    "rad, size = 1024, 256\n",
    "ext = extent(rad)\n",
    "finfo = census[census['id']==fidx].iloc[0]\n",
    "sat = location_tools.extract_satelite_tile(finfo['lon_bd09'], finfo['lat_bd09'], rad, pid=finfo['prod_id'], size=size, proj='bd-09')\n",
    "den = location_tools.extract_density_tile(finfo['lon_bd09'], finfo['lat_bd09'], rad=rad, size=size, proj='bd-09')\n",
    "arr_sat, arr_den = np.asarray(sat), np.asarray(den)\n",
    "arr_sat, arr_den = 1.4*amp(decloud(arr_sat, 100), 3.5), amp(arr_den, 0.7)\n",
    "arr_mix = np.stack([arr_sat/255+2*arr_den/255, arr_sat/255, arr_sat/255], axis=2)\n",
    "fig, ax = plt.subplots(figsize=(6, 6))\n",
    "ax.imshow(arr_mix, interpolation='lanczos', extent=ext);"
   ]
  },
  {
   "cell_type": "code",
   "execution_count": 0,
   "metadata": {},
   "outputs": [],
   "source": [
    "fidx = 1082781 # Shanghai Happy Vacuum Cleaner Factory\n",
    "# fidx = 271272 # Huawei\n",
    "\n",
    "# fetch tile\n",
    "rad, size = 1024, 256\n",
    "ext = extent(rad)\n",
    "finfo = census[census['id']==fidx].iloc[0]\n",
    "den = location_tools.extract_density_tile(finfo['lon_bd09'], finfo['lat_bd09'], rad=rad, size=size, proj='bd-09', image=False)\n",
    "\n",
    "# blur image at kmeter stdev\n",
    "kmeter = 25\n",
    "kpixel = kmeter/pixel\n",
    "blur = gaussian_filter(den, sigma=kpixel)\n",
    "\n",
    "# rectify image\n",
    "alpha = 1/np.quantile(blur[blur>0], 0.95)\n",
    "bend = 1 - 1/(1+alpha*blur)\n",
    "\n",
    "# quantize image\n",
    "im = Image.fromarray((255*bend).astype(np.uint8))\n",
    "im = im.transpose(Image.FLIP_TOP_BOTTOM)\n",
    "im = im.resize((size, size), resample=Image.LANCZOS)\n",
    "\n",
    "# plot image\n",
    "fig, ax = plt.subplots(figsize=(6, 6))\n",
    "ax.imshow(im, interpolation='lanczos', extent=ext);"
   ]
  },
  {
   "cell_type": "code",
   "execution_count": 0,
   "metadata": {},
   "outputs": [],
   "source": [
    "fidx = 1082781 # Shanghai Happy Vacuum Cleaner Factory\n",
    "# fidx = 271272 # Huawei\n",
    "\n",
    "# fetch tile\n",
    "rad, size = 1024, 256\n",
    "finfo = census[census['id']==fidx].iloc[0]\n",
    "den = location_tools.extract_density_tile(finfo['lon_bd09'], finfo['lat_bd09'], rad=rad, size=size, proj='bd-09')\n",
    "den"
   ]
  },
  {
   "cell_type": "code",
   "execution_count": 0,
   "metadata": {},
   "outputs": [],
   "source": []
  }
 ],
 "metadata": {
  "kernelspec": {
   "display_name": "Python 3.8",
   "language": "python",
   "name": "python3.8"
  },
  "language_info": {
   "codemirror_mode": {
    "name": "ipython",
    "version": 3
   },
   "file_extension": ".py",
   "mimetype": "text/x-python",
   "name": "python",
   "nbconvert_exporter": "python",
   "pygments_lexer": "ipython3",
   "version": "3.8.4"
  }
 },
 "nbformat": 4,
 "nbformat_minor": 4
}